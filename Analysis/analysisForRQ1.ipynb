{
 "cells": [
  {
   "cell_type": "code",
   "execution_count": 39,
   "metadata": {},
   "outputs": [
    {
     "data": {
      "text/html": [
       "<div>\n",
       "<style scoped>\n",
       "    .dataframe tbody tr th:only-of-type {\n",
       "        vertical-align: middle;\n",
       "    }\n",
       "\n",
       "    .dataframe tbody tr th {\n",
       "        vertical-align: top;\n",
       "    }\n",
       "\n",
       "    .dataframe thead th {\n",
       "        text-align: right;\n",
       "    }\n",
       "</style>\n",
       "<table border=\"1\" class=\"dataframe\">\n",
       "  <thead>\n",
       "    <tr style=\"text-align: right;\">\n",
       "      <th></th>\n",
       "      <th>new_part_id</th>\n",
       "      <th>participant_id</th>\n",
       "      <th>group_num</th>\n",
       "      <th>background</th>\n",
       "      <th>complexity</th>\n",
       "      <th>min_hotspots</th>\n",
       "      <th>max_hotspots</th>\n",
       "      <th>min_circles</th>\n",
       "      <th>max_circles</th>\n",
       "    </tr>\n",
       "  </thead>\n",
       "  <tbody>\n",
       "    <tr>\n",
       "      <th>0</th>\n",
       "      <td>1</td>\n",
       "      <td>1</td>\n",
       "      <td>2</td>\n",
       "      <td>tech</td>\n",
       "      <td>1</td>\n",
       "      <td>4</td>\n",
       "      <td>20</td>\n",
       "      <td>5</td>\n",
       "      <td>10</td>\n",
       "    </tr>\n",
       "    <tr>\n",
       "      <th>1</th>\n",
       "      <td>2</td>\n",
       "      <td>2</td>\n",
       "      <td>1</td>\n",
       "      <td>none</td>\n",
       "      <td>1</td>\n",
       "      <td>13</td>\n",
       "      <td>11</td>\n",
       "      <td>17</td>\n",
       "      <td>14</td>\n",
       "    </tr>\n",
       "    <tr>\n",
       "      <th>2</th>\n",
       "      <td>3</td>\n",
       "      <td>3</td>\n",
       "      <td>1</td>\n",
       "      <td>none</td>\n",
       "      <td>1</td>\n",
       "      <td>10</td>\n",
       "      <td>24</td>\n",
       "      <td>50</td>\n",
       "      <td>65</td>\n",
       "    </tr>\n",
       "    <tr>\n",
       "      <th>3</th>\n",
       "      <td>4</td>\n",
       "      <td>4</td>\n",
       "      <td>1</td>\n",
       "      <td>none</td>\n",
       "      <td>1</td>\n",
       "      <td>5</td>\n",
       "      <td>15</td>\n",
       "      <td>8</td>\n",
       "      <td>15</td>\n",
       "    </tr>\n",
       "    <tr>\n",
       "      <th>4</th>\n",
       "      <td>5</td>\n",
       "      <td>6</td>\n",
       "      <td>1</td>\n",
       "      <td>none</td>\n",
       "      <td>1</td>\n",
       "      <td>9</td>\n",
       "      <td>16</td>\n",
       "      <td>19</td>\n",
       "      <td>13</td>\n",
       "    </tr>\n",
       "    <tr>\n",
       "      <th>5</th>\n",
       "      <td>6</td>\n",
       "      <td>7</td>\n",
       "      <td>1</td>\n",
       "      <td>none</td>\n",
       "      <td>1</td>\n",
       "      <td>50</td>\n",
       "      <td>90</td>\n",
       "      <td>50</td>\n",
       "      <td>55</td>\n",
       "    </tr>\n",
       "    <tr>\n",
       "      <th>6</th>\n",
       "      <td>7</td>\n",
       "      <td>8</td>\n",
       "      <td>2</td>\n",
       "      <td>tech</td>\n",
       "      <td>1</td>\n",
       "      <td>40</td>\n",
       "      <td>55</td>\n",
       "      <td>20</td>\n",
       "      <td>30</td>\n",
       "    </tr>\n",
       "    <tr>\n",
       "      <th>7</th>\n",
       "      <td>8</td>\n",
       "      <td>10</td>\n",
       "      <td>1</td>\n",
       "      <td>none</td>\n",
       "      <td>1</td>\n",
       "      <td>6</td>\n",
       "      <td>12</td>\n",
       "      <td>9</td>\n",
       "      <td>14</td>\n",
       "    </tr>\n",
       "    <tr>\n",
       "      <th>8</th>\n",
       "      <td>9</td>\n",
       "      <td>11</td>\n",
       "      <td>1</td>\n",
       "      <td>none</td>\n",
       "      <td>1</td>\n",
       "      <td>10</td>\n",
       "      <td>18</td>\n",
       "      <td>6</td>\n",
       "      <td>10</td>\n",
       "    </tr>\n",
       "    <tr>\n",
       "      <th>9</th>\n",
       "      <td>10</td>\n",
       "      <td>12</td>\n",
       "      <td>1</td>\n",
       "      <td>none</td>\n",
       "      <td>1</td>\n",
       "      <td>17</td>\n",
       "      <td>50</td>\n",
       "      <td>5</td>\n",
       "      <td>30</td>\n",
       "    </tr>\n",
       "  </tbody>\n",
       "</table>\n",
       "</div>"
      ],
      "text/plain": [
       "   new_part_id  participant_id  group_num background  complexity  \\\n",
       "0            1               1          2       tech           1   \n",
       "1            2               2          1       none           1   \n",
       "2            3               3          1       none           1   \n",
       "3            4               4          1       none           1   \n",
       "4            5               6          1       none           1   \n",
       "5            6               7          1       none           1   \n",
       "6            7               8          2       tech           1   \n",
       "7            8              10          1       none           1   \n",
       "8            9              11          1       none           1   \n",
       "9           10              12          1       none           1   \n",
       "\n",
       "   min_hotspots  max_hotspots  min_circles  max_circles  \n",
       "0             4            20            5           10  \n",
       "1            13            11           17           14  \n",
       "2            10            24           50           65  \n",
       "3             5            15            8           15  \n",
       "4             9            16           19           13  \n",
       "5            50            90           50           55  \n",
       "6            40            55           20           30  \n",
       "7             6            12            9           14  \n",
       "8            10            18            6           10  \n",
       "9            17            50            5           30  "
      ]
     },
     "execution_count": 39,
     "metadata": {},
     "output_type": "execute_result"
    }
   ],
   "source": [
    "import pandas as pd\n",
    "from scipy.stats import kruskal \n",
    "\n",
    "#data=pd.read_csv('data/anovaFriendly.csv')\n",
    "data=pd.read_csv('data/goldStandardAdjusted.csv')\n",
    "data.head(10)"
   ]
  },
  {
   "cell_type": "code",
   "execution_count": 43,
   "metadata": {},
   "outputs": [],
   "source": [
    "#Adjusts data by gold standards, do not run\n",
    "\n",
    "c1=data[data['complexity']==1]\n",
    "c1.min_hotspots=c1.min_hotspots-8\n",
    "c1.max_hotspots=c1.max_hotspots-11\n",
    "c1.min_circles=c1.min_circles-8\n",
    "c1.max_circles=c1.max_circles-13\n",
    "\n",
    "c2=data[data['complexity']==2]\n",
    "c2.min_hotspots=c2.min_hotspots-7\n",
    "c2.max_hotspots=c2.max_hotspots-9\n",
    "c2.min_circles=c2.min_circles-7\n",
    "c2.max_circles=c2.max_circles-10\n",
    "\n",
    "c3=data[data['complexity']==3]\n",
    "c3.min_hotspots=c3.min_hotspots-5\n",
    "c3.max_hotspots=c3.max_hotspots-9\n",
    "c3.min_circles=c3.min_circles-6\n",
    "c3.max_circles=c3.max_circles-10\n",
    "\n",
    "data=pd.concat([c1,c2,c3])"
   ]
  },
  {
   "cell_type": "code",
   "execution_count": 45,
   "metadata": {},
   "outputs": [],
   "source": [
    "#data.head(10)\n",
    "#data.to_csv('data/goldStandardAdjusted.csv')"
   ]
  },
  {
   "cell_type": "code",
   "execution_count": 20,
   "metadata": {},
   "outputs": [],
   "source": [
    "g1=data[data.group_num==1]\n",
    "g1c1=g1[g1.complexity==1]\n",
    "g1c2=g1[g1.complexity==2]\n",
    "g1c3=g1[g1.complexity==3]\n",
    "\n",
    "g2=data[data.group_num==2]\n",
    "g2c1=g2[g2.complexity==1]\n",
    "g2c2=g2[g2.complexity==2]\n",
    "g2c3=g2[g2.complexity==3]\n",
    "\n",
    "g3=data[data.group_num==3]\n",
    "g3c1=g3[g3.complexity==1]\n",
    "g3c2=g3[g3.complexity==2]\n",
    "g3c3=g3[g3.complexity==3]"
   ]
  },
  {
   "cell_type": "code",
   "execution_count": 46,
   "metadata": {},
   "outputs": [
    {
     "data": {
      "text/plain": [
       "KruskalResult(statistic=0.025928264938966286, pvalue=0.9871195399255626)"
      ]
     },
     "execution_count": 46,
     "metadata": {},
     "output_type": "execute_result"
    }
   ],
   "source": [
    "#testing for different medians of min hotspots between backgrounds across all complexity\n",
    "kruskal(g1['min_hotspots'],g2['min_hotspots'],g3['min_hotspots'])"
   ]
  },
  {
   "cell_type": "code",
   "execution_count": 47,
   "metadata": {},
   "outputs": [
    {
     "data": {
      "text/plain": [
       "KruskalResult(statistic=0.7997963348693925, pvalue=0.670388309921186)"
      ]
     },
     "execution_count": 47,
     "metadata": {},
     "output_type": "execute_result"
    }
   ],
   "source": [
    "#max hotspots across backgrounds\n",
    "kruskal(g1['max_hotspots'],g2['max_hotspots'],g3['max_hotspots'])"
   ]
  },
  {
   "cell_type": "code",
   "execution_count": 48,
   "metadata": {},
   "outputs": [
    {
     "data": {
      "text/plain": [
       "KruskalResult(statistic=7.97653147138943, pvalue=0.018531825350307302)"
      ]
     },
     "execution_count": 48,
     "metadata": {},
     "output_type": "execute_result"
    }
   ],
   "source": [
    "#min circles across backgrounds\n",
    "kruskal(g1['min_circles'],g2['min_circles'],g3['min_circles'])"
   ]
  },
  {
   "cell_type": "code",
   "execution_count": 49,
   "metadata": {},
   "outputs": [
    {
     "data": {
      "text/plain": [
       "KruskalResult(statistic=5.2208915036947525, pvalue=0.07350177290870578)"
      ]
     },
     "execution_count": 49,
     "metadata": {},
     "output_type": "execute_result"
    }
   ],
   "source": [
    "#max circles across backgrounds\n",
    "kruskal(g1['max_circles'],g2['max_circles'],g3['max_circles'])"
   ]
  },
  {
   "cell_type": "code",
   "execution_count": 50,
   "metadata": {
    "scrolled": true
   },
   "outputs": [
    {
     "data": {
      "text/plain": [
       "KruskalResult(statistic=15.645183522804153, pvalue=0.047749507832753876)"
      ]
     },
     "execution_count": 50,
     "metadata": {},
     "output_type": "execute_result"
    }
   ],
   "source": [
    "#min hotspots across backgrounds and complexity\n",
    "kruskal(g1c1['min_hotspots'],g1c2['min_hotspots'],g1c3['min_hotspots'],g2c1['min_hotspots'],g2c2['min_hotspots'],g2c3['min_hotspots'], g3c1['min_hotspots'],g3c2['min_hotspots'],g3c3['min_hotspots'])"
   ]
  },
  {
   "cell_type": "code",
   "execution_count": 51,
   "metadata": {},
   "outputs": [
    {
     "data": {
      "text/plain": [
       "KruskalResult(statistic=5.368773201461377, pvalue=0.7175313838354759)"
      ]
     },
     "execution_count": 51,
     "metadata": {},
     "output_type": "execute_result"
    }
   ],
   "source": [
    "#max hotspots across backgrounds and complexity\n",
    "kruskal(g1c1['max_hotspots'],g1c2['max_hotspots'],g1c3['max_hotspots'],g2c1['max_hotspots'],g2c2['max_hotspots'],g2c3['max_hotspots'], g3c1['max_hotspots'],g3c2['max_hotspots'],g3c3['max_hotspots'])"
   ]
  },
  {
   "cell_type": "code",
   "execution_count": 52,
   "metadata": {},
   "outputs": [
    {
     "data": {
      "text/plain": [
       "KruskalResult(statistic=11.495004392899435, pvalue=0.17519723760059042)"
      ]
     },
     "execution_count": 52,
     "metadata": {},
     "output_type": "execute_result"
    }
   ],
   "source": [
    "#min circles across backgrounds and complexity\n",
    "kruskal(g1c1['min_circles'],g1c2['min_circles'],g1c3['min_circles'],g2c1['min_circles'],g2c2['min_circles'],g2c3['min_circles'], g3c1['min_circles'],g3c2['min_circles'],g3c3['min_circles'])"
   ]
  },
  {
   "cell_type": "code",
   "execution_count": 53,
   "metadata": {},
   "outputs": [
    {
     "data": {
      "text/plain": [
       "KruskalResult(statistic=9.644057959870194, pvalue=0.29090212434966384)"
      ]
     },
     "execution_count": 53,
     "metadata": {},
     "output_type": "execute_result"
    }
   ],
   "source": [
    "#max circles across background and complexity\n",
    "kruskal(g1c1['max_circles'],g1c2['max_circles'],g1c3['max_circles'],g2c1['max_circles'],g2c2['max_circles'],g2c3['max_circles'], g3c1['max_circles'],g3c2['max_circles'],g3c3['max_circles'])"
   ]
  },
  {
   "cell_type": "code",
   "execution_count": 55,
   "metadata": {},
   "outputs": [
    {
     "data": {
      "text/plain": [
       "KruskalResult(statistic=6.565346616086682, pvalue=0.0375277992224586)"
      ]
     },
     "execution_count": 55,
     "metadata": {},
     "output_type": "execute_result"
    }
   ],
   "source": [
    "#for complexity of 1, does the median vary between groups of different backgrounds\n",
    "kruskal(g1c1['min_hotspots'],g2c1['min_hotspots'],g3c1['min_hotspots'])\n"
   ]
  },
  {
   "cell_type": "code",
   "execution_count": 56,
   "metadata": {},
   "outputs": [
    {
     "data": {
      "text/plain": [
       "KruskalResult(statistic=1.6080890013508466, pvalue=0.4475153229271637)"
      ]
     },
     "execution_count": 56,
     "metadata": {},
     "output_type": "execute_result"
    }
   ],
   "source": [
    "kruskal(g1c1['max_hotspots'],g2c1['max_hotspots'],g3c1['max_hotspots'])"
   ]
  },
  {
   "cell_type": "code",
   "execution_count": 57,
   "metadata": {},
   "outputs": [
    {
     "data": {
      "text/plain": [
       "KruskalResult(statistic=3.2482460985501107, pvalue=0.1970844327793833)"
      ]
     },
     "execution_count": 57,
     "metadata": {},
     "output_type": "execute_result"
    }
   ],
   "source": [
    "kruskal(g1c1['min_circles'],g2c1['min_circles'],g3c1['min_circles'])"
   ]
  },
  {
   "cell_type": "code",
   "execution_count": 58,
   "metadata": {},
   "outputs": [
    {
     "data": {
      "text/plain": [
       "KruskalResult(statistic=1.9982605581894857, pvalue=0.3681995327870515)"
      ]
     },
     "execution_count": 58,
     "metadata": {},
     "output_type": "execute_result"
    }
   ],
   "source": [
    "kruskal(g1c1['max_circles'],g2c1['max_circles'],g3c1['max_circles'])"
   ]
  },
  {
   "cell_type": "code",
   "execution_count": 59,
   "metadata": {},
   "outputs": [
    {
     "data": {
      "text/plain": [
       "KruskalResult(statistic=0.1528493804923237, pvalue=0.926422680325763)"
      ]
     },
     "execution_count": 59,
     "metadata": {},
     "output_type": "execute_result"
    }
   ],
   "source": [
    "#for complexity of 2, does the median vary between groups of different backgrounds\n",
    "kruskal(g1c2['min_hotspots'],g2c2['min_hotspots'],g3c2['min_hotspots'])\n"
   ]
  },
  {
   "cell_type": "code",
   "execution_count": 61,
   "metadata": {},
   "outputs": [
    {
     "data": {
      "text/plain": [
       "KruskalResult(statistic=0.16522008934477733, pvalue=0.9207101130390243)"
      ]
     },
     "execution_count": 61,
     "metadata": {},
     "output_type": "execute_result"
    }
   ],
   "source": [
    "kruskal(g1c2['max_hotspots'],g2c2['max_hotspots'],g3c2['max_hotspots'])"
   ]
  },
  {
   "cell_type": "code",
   "execution_count": 63,
   "metadata": {},
   "outputs": [
    {
     "data": {
      "text/plain": [
       "KruskalResult(statistic=3.6583530888356877, pvalue=0.16054571562448566)"
      ]
     },
     "execution_count": 63,
     "metadata": {},
     "output_type": "execute_result"
    }
   ],
   "source": [
    "kruskal(g1c2['min_circles'],g2c2['min_circles'],g3c2['min_circles'])"
   ]
  },
  {
   "cell_type": "code",
   "execution_count": 64,
   "metadata": {},
   "outputs": [
    {
     "data": {
      "text/plain": [
       "KruskalResult(statistic=3.5314812095714485, pvalue=0.17106005166761634)"
      ]
     },
     "execution_count": 64,
     "metadata": {},
     "output_type": "execute_result"
    }
   ],
   "source": [
    "kruskal(g1c2['max_circles'],g2c2['max_circles'],g3c2['max_circles'])"
   ]
  },
  {
   "cell_type": "code",
   "execution_count": 65,
   "metadata": {},
   "outputs": [
    {
     "data": {
      "text/plain": [
       "KruskalResult(statistic=0.4356988744398866, pvalue=0.8042465221434492)"
      ]
     },
     "execution_count": 65,
     "metadata": {},
     "output_type": "execute_result"
    }
   ],
   "source": [
    "#for complexity of 3, does the median vary between groups of different backgrounds\n",
    "kruskal(g1c3['min_hotspots'],g2c3['min_hotspots'],g3c3['min_hotspots'])\n"
   ]
  },
  {
   "cell_type": "code",
   "execution_count": 66,
   "metadata": {},
   "outputs": [
    {
     "data": {
      "text/plain": [
       "KruskalResult(statistic=0.3338700304315442, pvalue=0.8462546032231433)"
      ]
     },
     "execution_count": 66,
     "metadata": {},
     "output_type": "execute_result"
    }
   ],
   "source": [
    "kruskal(g1c3['max_hotspots'],g2c3['max_hotspots'],g3c3['max_hotspots'])"
   ]
  },
  {
   "cell_type": "code",
   "execution_count": 67,
   "metadata": {},
   "outputs": [
    {
     "data": {
      "text/plain": [
       "KruskalResult(statistic=1.7526819479403268, pvalue=0.41630339319646603)"
      ]
     },
     "execution_count": 67,
     "metadata": {},
     "output_type": "execute_result"
    }
   ],
   "source": [
    "kruskal(g1c3['min_circles'],g2c3['min_circles'],g3c3['min_circles'])"
   ]
  },
  {
   "cell_type": "code",
   "execution_count": 68,
   "metadata": {},
   "outputs": [
    {
     "data": {
      "text/plain": [
       "KruskalResult(statistic=0.9613983929140103, pvalue=0.6183508918697678)"
      ]
     },
     "execution_count": 68,
     "metadata": {},
     "output_type": "execute_result"
    }
   ],
   "source": [
    "kruskal(g1c3['max_circles'],g2c3['max_circles'],g3c3['max_circles'])"
   ]
  },
  {
   "cell_type": "code",
   "execution_count": null,
   "metadata": {},
   "outputs": [],
   "source": []
  }
 ],
 "metadata": {
  "kernelspec": {
   "display_name": "Python 3",
   "language": "python",
   "name": "python3"
  },
  "language_info": {
   "codemirror_mode": {
    "name": "ipython",
    "version": 3
   },
   "file_extension": ".py",
   "mimetype": "text/x-python",
   "name": "python",
   "nbconvert_exporter": "python",
   "pygments_lexer": "ipython3",
   "version": "3.5.2"
  }
 },
 "nbformat": 4,
 "nbformat_minor": 2
}
