{
 "cells": [
  {
   "cell_type": "code",
   "execution_count": null,
   "metadata": {},
   "outputs": [],
   "source": [
    "%matplotlib inline\n",
    "import seaborn as sns\n",
    "import matplotlib.pyplot as plt\n",
    "import pandas as pd\n",
    "import numpy as np\n",
    "import sqlite3\n",
    "\n",
    "survey_data = pd.read_csv('data/questionnaire.csv')\n",
    "maps_data = pd.read_csv('data/map-data.csv')\n",
    "\n",
    "\n",
    "\n",
    "\n",
    "survey_data['participant_id']=survey_data['Q51_1'].astype(np.int64)\n",
    "\n",
    "survey_data.head(5)\n",
    "survey_data.describe()"
   ]
  },
  {
   "cell_type": "code",
   "execution_count": null,
   "metadata": {},
   "outputs": [],
   "source": [
    "data=pd.merge(maps_data, survey_data, on=\"participant_id\", how=\"left\")\n",
    "data.describe()\n",
    "data.head(5)\n",
    "data.to_csv('data/masterData.csv', sep='\\t')"
   ]
  },
  {
   "cell_type": "code",
   "execution_count": null,
   "metadata": {},
   "outputs": [],
   "source": [
    "data.describe()\n",
    "data.head(5)"
   ]
  },
  {
   "cell_type": "code",
   "execution_count": null,
   "metadata": {},
   "outputs": [],
   "source": [
    "data_g1= data[data['group_num']==1]\n",
    "data_g1.head(5)\n",
    "data_g1.to_csv('data/g1.csv', sep='\\t')"
   ]
  },
  {
   "cell_type": "code",
   "execution_count": null,
   "metadata": {},
   "outputs": [],
   "source": [
    "data_g2= data[data['group_num']==2]\n",
    "data_g2.head(5)\n",
    "data_g2.to_csv('data/g2.csv', sep='\\t')"
   ]
  },
  {
   "cell_type": "code",
   "execution_count": null,
   "metadata": {},
   "outputs": [],
   "source": [
    "data_g3= data[data['group_num']==3]\n",
    "data_g3.head(5)\n",
    "data_g3.to_csv('data/g3.csv', sep='\\t')"
   ]
  }
 ],
 "metadata": {
  "kernelspec": {
   "display_name": "Python 3",
   "language": "python",
   "name": "python3"
  },
  "language_info": {
   "codemirror_mode": {
    "name": "ipython",
    "version": 3
   },
   "file_extension": ".py",
   "mimetype": "text/x-python",
   "name": "python",
   "nbconvert_exporter": "python",
   "pygments_lexer": "ipython3",
   "version": "3.5.2"
  }
 },
 "nbformat": 4,
 "nbformat_minor": 2
}
